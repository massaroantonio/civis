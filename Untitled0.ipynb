{
 "metadata": {
  "name": "",
  "signature": "sha256:e5f7024aa17eb0f0d6dca2e650afdf78003276cc7adcc53252b34dda166d1068"
 },
 "nbformat": 3,
 "nbformat_minor": 0,
 "worksheets": [
  {
   "cells": [
    {
     "cell_type": "code",
     "collapsed": false,
     "input": [
      "start='360E2000'\n",
      "end='B40E2000'\n",
      "\n"
     ],
     "language": "python",
     "metadata": {},
     "outputs": [],
     "prompt_number": 50
    },
    {
     "cell_type": "code",
     "collapsed": false,
     "input": [
      "start_b=bin(int(start,16))[2:].zfill(32)\n",
      "end_b=bin(int(end,16))[2:].zfill(32)\n",
      "print('start',start_b,len(start_b))\n",
      "print('end',end_b,len(end_b))\n",
      "\n"
     ],
     "language": "python",
     "metadata": {},
     "outputs": [
      {
       "output_type": "stream",
       "stream": "stdout",
       "text": [
        "('start', '00110110000011100010000000000000', 32)\n",
        "('end', '10110100000011100010000000000000', 32)\n"
       ]
      }
     ],
     "prompt_number": 51
    },
    {
     "cell_type": "code",
     "collapsed": false,
     "input": [
      "begin=[0,4,7,12,15,20]\n",
      "finish=[4,7,12,15,20,31]\n",
      "labels=['month','operator','day_of_the_month','day_of_the_week','hours','seconds']"
     ],
     "language": "python",
     "metadata": {},
     "outputs": [],
     "prompt_number": 52
    },
    {
     "cell_type": "code",
     "collapsed": false,
     "input": [
      "b"
     ],
     "language": "python",
     "metadata": {},
     "outputs": [
      {
       "ename": "NameError",
       "evalue": "name 'b' is not defined",
       "output_type": "pyerr",
       "traceback": [
        "\u001b[1;31m---------------------------------------------------------------------------\u001b[0m\n\u001b[1;31mNameError\u001b[0m                                 Traceback (most recent call last)",
        "\u001b[1;32m<ipython-input-53-3b5d5c371295>\u001b[0m in \u001b[0;36m<module>\u001b[1;34m()\u001b[0m\n\u001b[1;32m----> 1\u001b[1;33m \u001b[0mb\u001b[0m\u001b[1;33m\u001b[0m\u001b[0m\n\u001b[0m",
        "\u001b[1;31mNameError\u001b[0m: name 'b' is not defined"
       ]
      }
     ],
     "prompt_number": 53
    },
    {
     "cell_type": "code",
     "collapsed": false,
     "input": [
      "for i in range(len(begin)):\n",
      "    print(labels[i],int(start_b[begin[i]:finish[i]],2))"
     ],
     "language": "python",
     "metadata": {},
     "outputs": [
      {
       "output_type": "stream",
       "stream": "stdout",
       "text": [
        "('month', 3)\n",
        "('operator', 3)\n",
        "('day_of_the_month', 0)\n",
        "('day_of_the_week', 7)\n",
        "('hours', 2)\n",
        "('seconds', 0)\n"
       ]
      }
     ],
     "prompt_number": 54
    },
    {
     "cell_type": "code",
     "collapsed": false,
     "input": [
      "for i in range(len(begin)):\n",
      "    print(labels[i],int(end_b[begin[i]:finish[i]],2))"
     ],
     "language": "python",
     "metadata": {},
     "outputs": [
      {
       "output_type": "stream",
       "stream": "stdout",
       "text": [
        "month 11\n",
        "operator 2\n",
        "day_of_the_month 0\n",
        "day_of_the_week 7\n",
        "hours 2\n",
        "seconds 0\n"
       ]
      }
     ],
     "prompt_number": 102
    },
    {
     "cell_type": "code",
     "collapsed": false,
     "input": [
      "import binascii\n",
      "binary_start=binascii.a2b_hex(start)\n",
      "print(start, binary_start, type(binary_start), len(binary_start))\n",
      "a=bytes.decode(binary_start)\n",
      "print(a, type(a))"
     ],
     "language": "python",
     "metadata": {},
     "outputs": [
      {
       "output_type": "stream",
       "stream": "stdout",
       "text": [
        "360E2000 b'6\\x0e \\x00' <class 'bytes'> 4\n",
        "6\u000e \u0000 <class 'str'>\n"
       ]
      }
     ],
     "prompt_number": 87
    },
    {
     "cell_type": "code",
     "collapsed": false,
     "input": [
      "from pymongo import MongoClient\n",
      "c=MongoClient()\n",
      "out=open('dates','w')\n",
      "c.database_names()\n",
      "f=c['try']['user_6'].find({'value':{'$exists':True}}).sort('time_stamp')\n",
      "for i in f:\n",
      "    out.write(str(i['time_stamp'])+','+str(i['date_time'])+','+str(i['value'])+',\\n')"
     ],
     "language": "python",
     "metadata": {},
     "outputs": [],
     "prompt_number": 47
    },
    {
     "cell_type": "code",
     "collapsed": false,
     "input": [
      "from pymongo import MongoClient\n",
      "c=MongoClient()\n",
      "c.drop_database('try')\n",
      "c.database_names()"
     ],
     "language": "python",
     "metadata": {},
     "outputs": [
      {
       "metadata": {},
       "output_type": "pyout",
       "prompt_number": 118,
       "text": [
        "['local', 'consumers_db', 'consumers_db_cleaned', 'admin']"
       ]
      }
     ],
     "prompt_number": 118
    },
    {
     "cell_type": "code",
     "collapsed": false,
     "input": [],
     "language": "python",
     "metadata": {},
     "outputs": []
    },
    {
     "cell_type": "code",
     "collapsed": false,
     "input": [
      "import os\n",
      "a=os.system('echo @123|./x.sh')\n",
      "print(a)\n",
      "os.system('becho @123|./x.sh')"
     ],
     "language": "python",
     "metadata": {},
     "outputs": [
      {
       "output_type": "stream",
       "stream": "stdout",
       "text": [
        "0\n"
       ]
      }
     ],
     "prompt_number": 23
    },
    {
     "cell_type": "code",
     "collapsed": false,
     "input": [
      "import datetime\n",
      "import subprocess\n",
      "\n",
      "now=datetime.datetime.now()\n",
      "T=int(now.timestamp())\n",
      "sT='@'+str(T)\n",
      "ps=subprocess.Popen(('echo',sT), stdout=subprocess.PIPE)\n",
      "output=subprocess.check_output('./x.sh',stdin=ps.stdout)\n",
      "print(output)\n",
      "output=bytes.decode(output)[:-1]\n",
      "print(output, len(output), type(output))\n",
      "utc_now=datetime.datetime.strptime(output, '%d-%m-%Y %H:%M:%S')\n",
      "print(utc_now)"
     ],
     "language": "python",
     "metadata": {},
     "outputs": [
      {
       "output_type": "stream",
       "stream": "stdout",
       "text": [
        "b'17-10-2014 10:02:11\\n'\n",
        "17-10-2014 10:02:11 19 <class 'str'>\n",
        "2014-10-17 10:02:11\n"
       ]
      }
     ],
     "prompt_number": 104
    },
    {
     "cell_type": "code",
     "collapsed": false,
     "input": [
      "import datetime\n",
      "import subprocess\n",
      "def to_datetime(timestamp, tzoffset, dstoffset):\n",
      "    stimestamp='@'+str(timestamp+tzoffset+dstoffset)\n",
      "    ps=subprocess.Popen(('echo',stimestamp), stdout=subprocess.PIPE)\n",
      "    output=subprocess.check_output('./x.sh',stdin=ps.stdout)\n",
      "    output=bytes.decode(output)[:-1]\n",
      "    date=datetime.datetime.strptime(output, '%d-%m-%Y %H:%M:%S')\n",
      "    return date"
     ],
     "language": "python",
     "metadata": {},
     "outputs": [],
     "prompt_number": 105
    },
    {
     "cell_type": "code",
     "collapsed": false,
     "input": [
      "tzoffset=-21600\n",
      "dstoffset=0\n",
      "timestamp=1344254700\n",
      "\n",
      "date=to_datetime(timestamp, tzoffset, dstoffset)\n",
      "print(str(date))"
     ],
     "language": "python",
     "metadata": {},
     "outputs": [
      {
       "output_type": "stream",
       "stream": "stdout",
       "text": [
        "2012-08-06 06:05:00\n"
       ]
      }
     ],
     "prompt_number": 112
    },
    {
     "cell_type": "code",
     "collapsed": false,
     "input": [],
     "language": "python",
     "metadata": {},
     "outputs": []
    }
   ],
   "metadata": {}
  }
 ]
}