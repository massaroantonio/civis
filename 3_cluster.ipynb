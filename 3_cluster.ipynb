{
 "metadata": {
  "name": "",
  "signature": "sha256:b728d91a5ef718d792fd941ae228adab72f41b6188b6794631b0779879f6fbcc"
 },
 "nbformat": 3,
 "nbformat_minor": 0,
 "worksheets": [
  {
   "cells": [
    {
     "cell_type": "code",
     "collapsed": false,
     "input": [
      "from pymongo import MongoClient\n",
      "from sklearn.cluster import KMeans\n",
      "from sklearn.cluster import AgglomerativeClustering\n",
      "from sklearn.cluster import MeanShift\n",
      "from sklearn.cluster import AffinityPropagation\n",
      "from sklearn.cluster import SpectralClustering\n",
      "from sklearn.cluster import DBSCAN\n",
      "import numpy"
     ],
     "language": "python",
     "metadata": {},
     "outputs": [],
     "prompt_number": 1
    },
    {
     "cell_type": "code",
     "collapsed": false,
     "input": [
      "\n",
      "def get_user_names(db_name):\n",
      "\tclient=MongoClient()\n",
      "\tnames=client[db_name].user_names\n",
      "\tassert(names.find().count()==1),'problem in the list of user_names: either more than 1 list was saved or no lists were saved'\n",
      "\tnames=names.find()[0]['user_ids']\n",
      "\tnames=[str(item) for item in names]\n",
      "\treturn names"
     ],
     "language": "python",
     "metadata": {},
     "outputs": [],
     "prompt_number": 2
    },
    {
     "cell_type": "code",
     "collapsed": false,
     "input": [
      "def get_training_vectors(db_name,features_dataset):\n",
      "\tclient=MongoClient()\n",
      "\tdatasets=client[db_name].features_datasets\n",
      "\tassert(datasets.find({'features_dataset':features_dataset}).count()>0), 'the collection '+features_dataset+' does not exist'\n",
      "\ttraining_vectors=[]\n",
      "\tuser_ids=get_user_names(db_name)\n",
      "\tfor user_id in user_ids:\n",
      "\t\tfound=datasets.find({'user_id':user_id, 'features_dataset':features_dataset})\n",
      "\t\tif found.count()==0:\n",
      "\t\t\tassert(0), 'the user_id '+user_id+' is missing'\n",
      "\t\tif found.count()>1:\n",
      "\t\t\tassert(0), 'the user_id '+user_id+' has more than one feature vector'\n",
      "\t\tassert(found.count()==1)\n",
      "\t\tvalues=found[0]['values']\n",
      "\t\ttraining_vectors.append(values)\n",
      "\treturn training_vectors"
     ],
     "language": "python",
     "metadata": {},
     "outputs": [],
     "prompt_number": 3
    },
    {
     "cell_type": "code",
     "collapsed": false,
     "input": [
      "def kmeans(db_name,features_dataset,n_cl):\n",
      "\tkmeans=KMeans(n_clusters=n_cl,init=\"k-means++\",n_init=10, max_iter=300, tol=0.00001, precompute_distances=True, verbose=0, random_state=None, copy_x=True, n_jobs=1)\n",
      "\tuser_ids=get_user_names(db_name)\n",
      "\ttraining_vectors=get_training_vectors(db_name,features_dataset)\n",
      "\tclasses=kmeans.fit_predict(training_vectors)\n",
      "\n",
      "\tclasses=map(int,list(classes))\n",
      "\n",
      "\talgorithm='k-means_'+str(n_cl)+'_clusters'\n",
      "\tclient=MongoClient()\n",
      "\tout=client[db_name].clustering_results\n",
      "\tassert(out.find({\"algorithm\":algorithm, \"features_dataset\":features_dataset}).count()==0), 'a classification for '+algorithm+' on the features dataset '+features_dataset+\" is already stored\"\n",
      "\tout.insert({\"algorithm\":algorithm, \"features_dataset\":features_dataset, \"classes\": classes, \"user_ids\":user_ids})\n",
      "\treturn\n"
     ],
     "language": "python",
     "metadata": {},
     "outputs": [],
     "prompt_number": 4
    },
    {
     "cell_type": "code",
     "collapsed": false,
     "input": [
      "#possibilities for link: 'ward', 'complete', 'average'\n",
      "def hierarchical(db_name,features_dataset,n_cl,link):\n",
      "\tward=AgglomerativeClustering(n_clusters=n_cl, linkage=link)\n",
      "\tuser_ids=get_user_names(db_name)\n",
      "\ttraining_vectors=get_training_vectors(db_name,features_dataset)\n",
      "\tclasses=ward.fit_predict(training_vectors)\n",
      "\n",
      "\tclasses=map(int,list(classes))\n",
      "\talgorithm='agglomerative_'+link+'_'+str(n_cl)+'_clusters'\n",
      "\n",
      "\tclient=MongoClient()\n",
      "\tout=client[db_name].clustering_results\n",
      "\tassert(out.find({\"algorithm\":algorithm, \"features_dataset\":features_dataset}).count()==0), 'a classification for '+algorithm+' on the features dataset '+features_dataset+\" is already stored\"\n",
      "\tout.insert({\"algorithm\":algorithm, \"features_dataset\":features_dataset, \"classes\": classes, \"user_ids\":user_ids})\n",
      "\treturn"
     ],
     "language": "python",
     "metadata": {},
     "outputs": [],
     "prompt_number": 5
    },
    {
     "cell_type": "code",
     "collapsed": false,
     "input": [
      "def meanshift(db_name,features_dataset):\n",
      "\tmeanshift=MeanShift()\n",
      "\tuser_ids=get_user_names(db_name)\n",
      "\ttraining_vectors=get_training_vectors(db_name,features_dataset)\n",
      "\tclasses=meanshift.fit_predict(numpy.array(training_vectors))\n",
      "\n",
      "\tclasses=map(int,list(classes))\n",
      "\talgorithm='meanshift'\n",
      "\tclient=MongoClient()\n",
      "\tout=client[db_name].clustering_results\n",
      "\tassert(out.find({\"algorithm\":algorithm, \"features_dataset\":features_dataset}).count()==0), 'a classification for '+algorithm+' on the features dataset '+features_dataset+\" is already stored\"\n",
      "\tout.insert({\"algorithm\":algorithm, \"features_dataset\":features_dataset, \"classes\": classes, \"user_ids\":user_ids})\n",
      "\treturn"
     ],
     "language": "python",
     "metadata": {},
     "outputs": [],
     "prompt_number": 6
    },
    {
     "cell_type": "code",
     "collapsed": false,
     "input": [
      "def affinity_propagation(db_name,features_dataset):\n",
      "\taffinitypropagation=AffinityPropagation()\n",
      "\tuser_ids=get_user_names(db_name)\n",
      "\ttraining_vectors=get_training_vectors(db_name,features_dataset)\n",
      "\tclasses=affinitypropagation.fit_predict(numpy.array(training_vectors))\n",
      "\n",
      "\tclasses=map(int,list(classes))\n",
      "\talgorithm='affinity_propagation'\n",
      "\tclient=MongoClient()\n",
      "\tout=client[db_name].clustering_results\n",
      "\tassert(out.find({\"algorithm\":algorithm, \"features_dataset\":features_dataset}).count()==0), 'a classification for '+algorithm+' on the features dataset '+features_dataset+\" is already stored\"\n",
      "\tout.insert({\"algorithm\":algorithm, \"features_dataset\":features_dataset, \"classes\": classes, \"user_ids\":user_ids})\n",
      "\treturn\n"
     ],
     "language": "python",
     "metadata": {},
     "outputs": [],
     "prompt_number": 7
    },
    {
     "cell_type": "code",
     "collapsed": false,
     "input": [
      "def spectral(db_name,features_dataset, n_cl):\n",
      "\tspectral=SpectralClustering(n_clusters=n_cl)\n",
      "\tuser_ids=get_user_names(db_name)\n",
      "\ttraining_vectors=get_training_vectors(db_name,features_dataset)\n",
      "\tclasses=affinitypropagaiton.fit_predict(numpy.array(training_vectors))\n",
      "\n",
      "\tclasses=map(int,list(classes))\n",
      "\talgorithm='spectral_clustering_'+str(n_cl)+'_clusters'\n",
      "\tclient=MongoClient()\n",
      "\tout=client[db_name].clustering_results\n",
      "\tassert(out.find({\"algorithm\":algorithm, \"features_dataset\":features_dataset}).count()==0), 'a classification for '+algorithm+' on the features dataset '+features_dataset+\" is already stored\"\n",
      "\tout.insert({\"algorithm\":algorithm, \"features_dataset\":features_dataset, \"classes\": classes, \"user_ids\":user_ids})\n",
      "\treturn"
     ],
     "language": "python",
     "metadata": {},
     "outputs": [],
     "prompt_number": 8
    },
    {
     "cell_type": "code",
     "collapsed": false,
     "input": [
      "def dbscan(db_name,features_dataset, epsilon):\n",
      "\tdbscan=DBSCAN(eps=epsilon)\n",
      "\tuser_ids=get_user_names(db_name)\n",
      "\ttraining_vectors=get_training_vectors(db_name,features_dataset)\n",
      "\tclasses=affinitypropagaiton.fit_predict(numpy.array(training_vectors))\n",
      "\n",
      "\tclasses=map(int,list(classes))\n",
      "\talgorithm='dbscan'\n",
      "\tclient=MongoClient()\n",
      "\tout=client[db_name].clustering_results\n",
      "\tassert(out.find({\"algorithm\":algorithm, \"features_dataset\":features_dataset}).count()==0), 'a classification for '+algorithm+' on the features dataset '+features_dataset+\" is already stored\"\n",
      "\tout.insert({\"algorithm\":algorithm, \"features_dataset\":features_dataset, \"classes\": classes, \"user_ids\":user_ids})\n",
      "\treturn"
     ],
     "language": "python",
     "metadata": {},
     "outputs": []
    }
   ],
   "metadata": {}
  }
 ]
}