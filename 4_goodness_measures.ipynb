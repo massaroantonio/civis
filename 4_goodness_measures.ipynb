{
 "metadata": {
  "name": "",
  "signature": "sha256:82b761283ac18ad6ece2c9a7209dd6c597a014dacc29c1376132df74fdb7cda5"
 },
 "nbformat": 3,
 "nbformat_minor": 0,
 "worksheets": [
  {
   "cells": [
    {
     "cell_type": "code",
     "collapsed": false,
     "input": [
      "from pymongo import MongoClient\n",
      "import datetime\n",
      "import matplotlib.pyplot as plt\n",
      "import numpy\n",
      "import math\n"
     ],
     "language": "python",
     "metadata": {},
     "outputs": [],
     "prompt_number": 1
    },
    {
     "cell_type": "code",
     "collapsed": false,
     "input": [
      "#returns a list of lists of user_id s, grouped by cluster out=[[usr_x,usr_y],[usr_z],[usr_w,usr_t,usr_a],...]\n",
      "def get_clusters_user_id(db,features_dataset,algorithm):\n",
      "\tclient=MongoClient()\n",
      "\tcollection=client[db].clustering_results\n",
      "\tfound=collection.find({\"algorithm\":algorithm, \"features_dataset\":features_dataset})\n",
      "\tassert(found.count()==1)\n",
      "\tuser_ids=found[0][\"user_ids\"]\n",
      "\tclasses=found[0][\"classes\"]\n",
      "\tn_classes=len(set(classes))\n",
      "\tout=[[] for i in set(classes)]\n",
      "\tfor i in range(len(user_ids)):\n",
      "\t\tout[classes[i]].append(str(user_ids[i]))\n",
      "\t\t#print(out[0])\n",
      "\treturn out"
     ],
     "language": "python",
     "metadata": {},
     "outputs": [],
     "prompt_number": 2
    },
    {
     "cell_type": "code",
     "collapsed": false,
     "input": [
      "#returns a list of lists of feature vectors, grouped by cluster: cluster=[[feat_usr_x,feat_usr_y],[feat_usr_z],[feat_usr_w,feat_usr_t,feat_usr_a],...]\n",
      "def get_clusters(db,features_dataset,algorithm):\n",
      "\tclient=MongoClient()\n",
      "\tdataset=client[db].features_datasets\n",
      "\n",
      "\tcluster_user_id=get_clusters_user_id(db,features_dataset,algorithm)\n",
      "\tclusters=[[] for i in cluster_user_id]\n",
      "\tn_clusters=len(cluster_user_id)\n",
      "\tfor i in  range(n_clusters):\n",
      "\t\tfor user_id in cluster_user_id[i]:\n",
      "\t\t\tf=dataset.find({'features_dataset':features_dataset,'user_id':user_id})\n",
      "\t\t\tassert(f.count()==1), 'the vector for '+user_id+\" does  not exist in the dataset \"+features_dataset\n",
      "\t\t\tv=numpy.array(map(float,(f[0]['values'])))\n",
      "\t\t\tclusters[i].append(v)\t\n",
      "\n",
      "\treturn clusters"
     ],
     "language": "python",
     "metadata": {},
     "outputs": [],
     "prompt_number": 3
    },
    {
     "cell_type": "code",
     "collapsed": false,
     "input": [
      "def get_centroids_from_clusters(clusters):\n",
      "\tn_cl=len(clusters)\n",
      "\tcentroid=numpy.zeros(len(clusters[0][0]))\n",
      "\tcentroids=[]\n",
      "\tfor cluster in clusters:\n",
      "\t\tfor item in cluster:\n",
      "\t\t\t\tcentroid=centroid+item\n",
      "\t\tcentroid=centroid/len(cluster)\n",
      "\t\tcentroids.append(centroid)\n",
      "\t\tcentroid=centroid*0\n",
      "\treturn centroids"
     ],
     "language": "python",
     "metadata": {},
     "outputs": [],
     "prompt_number": 4
    },
    {
     "cell_type": "code",
     "collapsed": false,
     "input": [
      "def avg_dist_within_set(set):\n",
      "\tn=len(set)\n",
      "\tif n==1:\n",
      "\t\treturn 0\n",
      "\td=0\n",
      "\tfor i in range(n):\n",
      "\t\tfor j in range(i):\n",
      "\t\t\td=d+numpy.linalg.norm(set[i]-set[j])\n",
      "\td=d/(n*(n-1)*0.5)\n",
      "\treturn d"
     ],
     "language": "python",
     "metadata": {},
     "outputs": [],
     "prompt_number": 5
    },
    {
     "cell_type": "code",
     "collapsed": false,
     "input": [
      "def CDI_from_clusters(clusters):\n",
      "\tcentroids=get_centroids_from_clusters(clusters)\n",
      "\td=0\n",
      "\tfor cluster in clusters:\n",
      "\t\td=d+pow(avg_dist_within_set(cluster),2)\n",
      "\tCDI=math.sqrt(d/len(clusters))/avg_dist_within_set(centroids)\n",
      "\treturn CDI\n"
     ],
     "language": "python",
     "metadata": {},
     "outputs": [],
     "prompt_number": 6
    },
    {
     "cell_type": "code",
     "collapsed": false,
     "input": [
      "def MDI_from_clusters(clusters):\n",
      "\tcentroids=get_centroids_from_clusters(clusters)\n",
      "\tD=[]\n",
      "\tfor cluster in clusters:\n",
      "\t\tD.append(avg_dist_within_set(cluster))\n",
      "\tD_C=[]\n",
      "\tfor i in range(len(centroids)):\n",
      "\t\tfor j in range(i):\n",
      "\t\t\tD_C.append(numpy.linalg.norm(centroids[i]-centroids[j]))\n",
      "\treturn max(D)/min(D_C)\n"
     ],
     "language": "python",
     "metadata": {},
     "outputs": [],
     "prompt_number": 7
    },
    {
     "cell_type": "code",
     "collapsed": false,
     "input": [
      "\n",
      "def MSE_from_clusters(clusters):\t\n",
      "\tcentroids=get_centroids_from_clusters(clusters)\n",
      "\tMSE=0.0\n",
      "\tn_cl=len(centroids)\n",
      "\tn=0\n",
      "\tfor cluster in clusters:\n",
      "\t\tn=n+len(cluster)\n",
      "\tfor i in range(n_cl):\n",
      "\t\tcluster=clusters[i]\n",
      "\t\tcentroid=centroids[i]\n",
      "\t\tfor item in cluster:\n",
      "\t\t\tMSE=MSE+pow(numpy.linalg.norm(centroid-item),2)\n",
      "\treturn MSE/n\n"
     ],
     "language": "python",
     "metadata": {},
     "outputs": [],
     "prompt_number": 8
    },
    {
     "cell_type": "code",
     "collapsed": false,
     "input": [
      "def within_to_between_from_clusters(clusters):\n",
      "\tcentroids=get_centroids_from_clusters(clusters)\n",
      "\tn_cl=len(centroids)\n",
      "\tn=.0\n",
      "\td=.0\n",
      "\tfor i in range(n_cl):\n",
      "\t\tcluster=clusters[i]\n",
      "\t\tcentroid=centroids[i]\n",
      "\t\tfor item in cluster:\n",
      "\t\t\tn=n+pow(numpy.linalg.norm(centroid-item),2)\n",
      "\tfor i in range(n_cl):\n",
      "\t\tfor j in range(i):\n",
      "\t\t\td=d+pow(numpy.linalg.norm(centroids[i]-centroids[j]),2)\n",
      "\treturn n/d"
     ],
     "language": "python",
     "metadata": {},
     "outputs": [],
     "prompt_number": 9
    },
    {
     "cell_type": "code",
     "collapsed": false,
     "input": [
      "def DBI_from_clusters(clusters):\n",
      "\tcentroids=get_centroids_from_clusters(clusters)\n",
      "\tn_cl=len(centroids)\n",
      "\twithin=[]\n",
      "\tM=[]\n",
      "\td=[]\n",
      "\ts=[]\n",
      "\tfor cluster in clusters:\n",
      "\t\td.append(avg_dist_within_set(cluster))\n",
      "\tfor i in range(n_cl):\n",
      "\t\tfor j in range(n_cl):\n",
      "\t\t\tif j!=i:\n",
      "\t\t\t\ts.append((d[i]+d[j])/numpy.linalg.norm(centroids[i]-centroids[j]))\n",
      "\t\tM.append(max(d))\n",
      "\t\ts=[]\n",
      "\treturn sum(M)/n_cl"
     ],
     "language": "python",
     "metadata": {},
     "outputs": [],
     "prompt_number": 10
    },
    {
     "cell_type": "code",
     "collapsed": false,
     "input": [
      "def measure_goodness(db,features_dataset,algorithm):\n",
      "\tclient=MongoClient()\n",
      "\tout=client[db].goodness_measures\n",
      "\tclusters=get_clusters(db,features_dataset,algorithm)\n",
      "\tCDI=CDI_from_clusters(clusters)\n",
      "\tMDI=MDI_from_clusters(clusters)\n",
      "\tMSE=MSE_from_clusters(clusters)\n",
      "\tWTB=within_to_between_from_clusters(clusters)\n",
      "\tDBI=DBI_from_clusters(clusters)\n",
      "\tassert(out.find({\"features_dataset\":features_dataset,\"algorithm\":algorithm}).count()==0), \"goodness measures have already been calculated for the features' dataset \"+ features_dataset+\" and algorithm \"+algorithm\n",
      "\tout.insert({\"features_dataset\":features_dataset,\n",
      "\t\t\t\t\"algorithm\":algorithm, \n",
      "\t\t\t\t\"CDI\":CDI,\n",
      "\t\t\t\t\"MDI\":MDI,\n",
      "\t\t\t\t\"MSE\":MSE,\n",
      "\t\t\t\t\"WTB\":WTB,\n",
      "\t\t\t\t\"DBI\":DBI})\n",
      "\treturn"
     ],
     "language": "python",
     "metadata": {},
     "outputs": []
    }
   ],
   "metadata": {}
  }
 ]
}