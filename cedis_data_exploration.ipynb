{
 "metadata": {
  "name": "",
  "signature": "sha256:35ac68be99599cd9f0b4cd7c455fb33f7e80fff1aa9e2b90811c15370d3d8ab6"
 },
 "nbformat": 3,
 "nbformat_minor": 0,
 "worksheets": [
  {
   "cells": [
    {
     "cell_type": "code",
     "collapsed": false,
     "input": [
      "from pymongo import MongoClient\n",
      "c=MongoClient()\n",
      "db='cedis_20_users'\n",
      "users=list(map(str,c[db].user_names.find()[0]['user_ids']))\n",
      "a=c[db][users[0]].find_one()\n",
      "keys=list(map(str,a.keys()))\n",
      "keys=[key for key in keys if key!='_id']\n",
      "print('fields:\\n---------')\n",
      "for key in keys:\n",
      "    print(key, end='\\n')"
     ],
     "language": "python",
     "metadata": {},
     "outputs": [
      {
       "output_type": "stream",
       "stream": "stdout",
       "text": [
        "fields:\n",
        "---------\n",
        "duration\n",
        "date_time\n",
        "meter_serial_number\n",
        "sample_status\n",
        "concentrator_serial_number\n",
        "test\n",
        "tariff_desctiption\n",
        "type_\n",
        "weekday\n",
        "tz_offset\n",
        "value\n",
        "dbo_vapos_tariffa\n",
        "users_with_meters_tariff\n",
        "maximum_granted_power\n",
        "operative_unit\n",
        "presumed_data\n",
        "time_stamp\n"
       ]
      }
     ],
     "prompt_number": 81
    },
    {
     "cell_type": "code",
     "collapsed": false,
     "input": [
      "tariffs=[c[db][user].distinct('tariff_desctiption') for user in users]\n",
      "print('user\\t\\ttariff')\n",
      "print('-------------------')    \n",
      "for i in range(len(users)):\n",
      "    print(users[i],'\\t\\t',tariffs[i])"
     ],
     "language": "python",
     "metadata": {},
     "outputs": [
      {
       "output_type": "stream",
       "stream": "stdout",
       "text": [
        "user\t\ttariff\n",
        "-------------------\n",
        "122255 \t\t ['USI DIV. BT OLTRE 15 KW SOCI']\n",
        "111255 \t\t ['D2 - USI DOM. RES. 3KW SOCI']\n",
        "111644 \t\t ['D2 - USI DOM. RES. 3KW SOCI']\n",
        "107038 \t\t ['D2 - USI DOM. RES. 3KW SOCI']\n",
        "111690 \t\t ['D2 - USI DOM. RES. 3KW SOCI']\n",
        "102993 \t\t ['D2 - USI DOM. RES. 3KW SOCI']\n",
        "102384 \t\t ['D2 - USI DOM. RES. 3KW SOCI']\n",
        "110367 \t\t ['USI DIV. BT FINO 3 KW SOCI']\n",
        "107514 \t\t ['D2 - USI DOM. RES. 3KW SOCI']\n",
        "111864 \t\t ['D2 - USI DOM. RES. 3KW SOCI']\n",
        "104435 \t\t ['D2 - USI DOM. RES. 3KW SOCI']\n",
        "104255 \t\t ['D3 - USI DOM. RES. OLTRE 3KW SOCI']\n",
        "103041 \t\t ['D2 - USI DOM. RES. 3KW SOCI']\n",
        "102083 \t\t ['D2 - USI DOM. RES. 3KW SOCI']\n",
        "102155 \t\t ['D2 - USI DOM. RES. 3KW SOCI']\n",
        "104264 \t\t ['D2 - USI DOM. RES. 3KW SOCI']\n",
        "122247 \t\t ['D2 - USI DOM. RES. 3KW SOCI']\n",
        "103274 \t\t ['D2 - USI DOM. RES. 3KW SOCI']\n",
        "107396 \t\t ['D2 - USI DOM. RES. 3KW SOCI']\n",
        "107593 \t\t ['D2 - USI DOM. RES. 3KW SOCI']\n"
       ]
      }
     ],
     "prompt_number": 65
    },
    {
     "cell_type": "code",
     "collapsed": false,
     "input": [
      "#each user has a unique tariff, as expected"
     ],
     "language": "python",
     "metadata": {},
     "outputs": []
    },
    {
     "cell_type": "code",
     "collapsed": false,
     "input": [
      "v=[c[db][user].find({'date_time':{'$exists':True}}).count() for user in users]\n",
      "start_dates=[c[db][user].find({'date_time':{'$exists':True}}).sort('date_time')[0]['date_time'] for user in users]\n",
      "end_dates=[c[db][user].find({'date_time':{'$exists':True}}).sort('date_time',-1)[0]['date_time'] for user in users]\n",
      "print('user\\t\\tn_elements\\t\\tstart_date\\t\\tend_date')\n",
      "print('-----------------------------------------------------------------------------')\n",
      "for i in range(len(users)):\n",
      "    print(users[i],'\\t\\t', v[i],'\\t\\t',start_dates[i],'\\t\\t',end_dates[i])"
     ],
     "language": "python",
     "metadata": {},
     "outputs": [
      {
       "output_type": "stream",
       "stream": "stdout",
       "text": [
        "user\t\tn_elements\t\tstart_date\t\tend_date\n",
        "-----------------------------------------------------------------------------\n",
        "122255 \t\t 85628 \t\t 2012-01-01 00:00:00 \t\t 2014-09-11 20:45:00\n",
        "111255 \t\t 76400 \t\t 2012-01-01 00:00:00 \t\t 2014-09-11 20:45:00\n",
        "111644 \t\t 82460 \t\t 2012-01-01 00:00:00 \t\t 2014-09-11 20:45:00\n",
        "107038 \t\t 80996 \t\t 2012-01-01 00:00:00 \t\t 2014-09-11 20:45:00\n",
        "111690 \t\t 81200 \t\t 2012-01-01 00:00:00 \t\t 2014-09-11 20:45:00\n",
        "102993 \t\t 82424 \t\t 2012-01-01 00:00:00 \t\t 2014-09-11 20:45:00\n",
        "102384 \t\t 92300 \t\t 2012-01-01 00:00:00 \t\t 2014-09-11 20:45:00\n",
        "110367 \t\t 93380 \t\t 2012-01-01 00:00:00 \t\t 2014-09-11 20:45:00\n",
        "107514 \t\t 66968 \t\t 2012-05-26 21:00:00 \t\t 2014-09-11 20:45:00\n",
        "111864 \t\t 31636 \t\t 2013-02-20 03:00:00 \t\t 2014-09-11 20:45:00\n",
        "104435 \t\t 176664 \t\t 2012-01-01 12:00:00 \t\t 2014-09-11 20:45:00\n",
        "104255 \t\t 174640 \t\t 2012-01-01 00:00:00 \t\t 2014-09-11 20:45:00\n",
        "103041 \t\t 90776 \t\t 2012-01-01 00:00:00 \t\t 2014-09-11 20:45:00\n",
        "102083 \t\t 90764 \t\t 2012-01-01 00:00:00 \t\t 2014-09-11 20:45:00\n",
        "102155 \t\t 182224 \t\t 2012-01-01 00:00:00 \t\t 2014-09-11 20:45:00\n",
        "104264 \t\t 90776 \t\t 2012-01-01 00:00:00 \t\t 2014-09-11 20:45:00\n",
        "122247 \t\t 92408 \t\t 2012-01-01 00:00:00 \t\t 2014-09-11 20:45:00\n",
        "103274 \t\t 90004 \t\t 2012-01-01 00:00:00 \t\t 2014-09-11 20:45:00\n",
        "107396 \t\t 87488 \t\t 2012-01-01 00:00:00 \t\t 2014-09-11 20:45:00\n",
        "107593 \t\t 82328 \t\t 2012-01-01 00:00:00 \t\t 2014-09-11 20:45:00\n"
       ]
      }
     ],
     "prompt_number": 37
    },
    {
     "cell_type": "code",
     "collapsed": false,
     "input": [
      "#users differ by number of values and time-windows, in particular, users 104435,104255,102155 have roughly double the values"
     ],
     "language": "python",
     "metadata": {},
     "outputs": []
    },
    {
     "cell_type": "code",
     "collapsed": false,
     "input": [
      "meter_serial_number=[c[db][user].distinct('meter_serial_number') for user in users]\n",
      "n0=[c[db][users[i]].find({'meter_serial_number':meter_serial_number[i][0]}).count() for i in range(len(users))]\n",
      "n1=[0 if len(meter_serial_number[i])==1 else c[db][users[i]].find({'meter_serial_number':meter_serial_number[i][1]}).count() for i in range(len(users))]\n",
      "\n",
      "print('user\\t\\tunique meter_serial_number\\t\\tnumber with first meter\\t\\t numer with second meter')\n",
      "print('---------------------------------')\n",
      "for i in range(len(users)):\n",
      "    print (users[i],'\\t\\t', meter_serial_number[i],'\\t\\t',n0[i],'\\t\\t',n1[i])"
     ],
     "language": "python",
     "metadata": {},
     "outputs": [
      {
       "output_type": "stream",
       "stream": "stdout",
       "text": [
        "user\t\tunique meter_serial_number\t\tnumber with first meter\t\t numer with second meter\n",
        "---------------------------------\n",
        "122255 \t\t [508430005938] \t\t 85628 \t\t 0\n",
        "111255 \t\t [508620216328] \t\t 76400 \t\t 0\n",
        "111644 \t\t [508620216359] \t\t 82460 \t\t 0\n",
        "107038 \t\t [508620216524] \t\t 80996 \t\t 0\n",
        "111690 \t\t [508620216525] \t\t 81200 \t\t 0\n",
        "102993 \t\t [508620216567] \t\t 82424 \t\t 0\n",
        "102384 \t\t [508620436846] \t\t 92300 \t\t 0\n",
        "110367 \t\t [508620436894] \t\t 93380 \t\t 0\n",
        "107514 \t\t [508620437023] \t\t 66968 \t\t 0\n",
        "111864 \t\t [508620437201] \t\t 31636 \t\t 0\n",
        "104435 \t\t [508620437743, 508620438564] \t\t 87724 \t\t 88940\n",
        "104255 \t\t [508620437823, 508620437978] \t\t 93716 \t\t 80924\n",
        "103041 \t\t [508620438201] \t\t 90776 \t\t 0\n",
        "102083 \t\t [508620438233] \t\t 90764 \t\t 0\n",
        "102155 \t\t [508620438259, 509620628871] \t\t 91040 \t\t 91184\n",
        "104264 \t\t [508620438689] \t\t 90776 \t\t 0\n",
        "122247 \t\t [508620438693] \t\t 92408 \t\t 0\n",
        "103274 \t\t [508620438744] \t\t 90004 \t\t 0\n",
        "107396 \t\t [509620629146] \t\t 87488 \t\t 0\n",
        "107593 \t\t [510620749828] \t\t 82328 \t\t 0\n"
       ]
      }
     ],
     "prompt_number": 99
    },
    {
     "cell_type": "code",
     "collapsed": false,
     "input": [
      "#three users have two different meter_serial_number values, users that have 2 meter are the same that have about double the values\n",
      "#with half values referring to the first meter serial number, the other half referring to the second one"
     ],
     "language": "python",
     "metadata": {},
     "outputs": [],
     "prompt_number": 100
    },
    {
     "cell_type": "code",
     "collapsed": false,
     "input": [
      "concentrator_serial_number=[c[db][user].distinct('concentrator_serial_number') for user in users]\n",
      "print('user\\t\\tunique concentrator_serial_number')\n",
      "print('---------------------------------')\n",
      "for i in range(len(users)):\n",
      "    print (users[i],'\\t\\t', concentrator_serial_number[i])"
     ],
     "language": "python",
     "metadata": {},
     "outputs": [
      {
       "output_type": "stream",
       "stream": "stdout",
       "text": [
        "user\t\tunique concentrator_serial_number\n",
        "---------------------------------\n",
        "122255 \t\t [509730015916]\n",
        "111255 \t\t [507530011426]\n",
        "111644 \t\t [507530011426]\n",
        "107038 \t\t [507530011426]\n",
        "111690 \t\t [507530011426]\n",
        "102993 \t\t [507530011426]\n",
        "102384 \t\t [509730015916]\n",
        "110367 \t\t [509730015916]\n",
        "107514 \t\t [509730015916]\n",
        "111864 \t\t [509730015914, 509730015916]\n",
        "104435 \t\t [509730016538]\n",
        "104255 \t\t [507530011312]\n",
        "103041 \t\t [508530013814]\n",
        "102083 \t\t [508530013814]\n",
        "102155 \t\t [508530013807]\n",
        "104264 \t\t [509730015916]\n",
        "122247 \t\t [509730015916]\n",
        "103274 \t\t [508530013807]\n",
        "107396 \t\t [509730015916]\n",
        "107593 \t\t [507530011426]\n"
       ]
      }
     ],
     "prompt_number": 40
    },
    {
     "cell_type": "code",
     "collapsed": false,
     "input": [
      "#a user has two different concentration_serial_number, and it is a different user from the three users found above"
     ],
     "language": "python",
     "metadata": {},
     "outputs": []
    },
    {
     "cell_type": "code",
     "collapsed": false,
     "input": [
      "v=[1 if concentrator_serial_number[i]==meter_serial_number[i] else 0 for i in range(len(meter_serial_number))]\n",
      "if sum(v)==0:\n",
      "    print('ok')"
     ],
     "language": "python",
     "metadata": {},
     "outputs": [
      {
       "output_type": "stream",
       "stream": "stdout",
       "text": [
        "ok\n"
       ]
      }
     ],
     "prompt_number": 14
    },
    {
     "cell_type": "code",
     "collapsed": false,
     "input": [
      "#concentrator and meter serial numbers are different for each user"
     ],
     "language": "python",
     "metadata": {},
     "outputs": [],
     "prompt_number": 15
    },
    {
     "cell_type": "code",
     "collapsed": false,
     "input": [
      "type_=[c[db][user].distinct('type_') for user in users]\n",
      "n0=[c[db][users[i]].find({'type_':type_[i][0]}).count() for i in range(len(users))]\n",
      "n1=[0 if len(type_[i])==1 else c[db][users[i]].find({'type_':type_[i][1]}).count() for i in range(len(users))]\n",
      "print('user\\t\\tunique type\\tn_contatore prelievo\\tn_contatore produzione')\n",
      "print('---------------------------------')\n",
      "for i in range(len(users)):\n",
      "    print (users[i],'\\t\\t', type_[i],'\\t\\t',n0[i],'\\t\\t',n1[i])"
     ],
     "language": "python",
     "metadata": {},
     "outputs": [
      {
       "output_type": "stream",
       "stream": "stdout",
       "text": [
        "user\t\tunique type\tn_contatore prelievo\tn_contatore produzione\n",
        "---------------------------------\n",
        "122255 \t\t ['ContatorePrelievo'] \t\t 85628 \t\t 0\n",
        "111255 \t\t ['ContatorePrelievo'] \t\t 76400 \t\t 0\n",
        "111644 \t\t ['ContatorePrelievo'] \t\t 82460 \t\t 0\n",
        "107038 \t\t ['ContatorePrelievo'] \t\t 80996 \t\t 0\n",
        "111690 \t\t ['ContatorePrelievo'] \t\t 81200 \t\t 0\n",
        "102993 \t\t ['ContatorePrelievo'] \t\t 82424 \t\t 0\n",
        "102384 \t\t ['ContatorePrelievo'] \t\t 92300 \t\t 0\n",
        "110367 \t\t ['ContatorePrelievo'] \t\t 93380 \t\t 0\n",
        "107514 \t\t ['ContatorePrelievo'] \t\t 66968 \t\t 0\n",
        "111864 \t\t ['ContatorePrelievo'] \t\t 31636 \t\t 0\n",
        "104435 \t\t ['ContatorePrelievo', 'ContatoreProduzione'] \t\t 87724 \t\t 88940\n",
        "104255 \t\t ['ContatorePrelievo', 'ContatoreProduzione'] \t\t 93716 \t\t 80924\n",
        "103041 \t\t ['ContatorePrelievo'] \t\t 90776 \t\t 0\n",
        "102083 \t\t ['ContatorePrelievo'] \t\t 90764 \t\t 0\n",
        "102155 \t\t ['ContatorePrelievo', 'ContatoreProduzione'] \t\t 91040 \t\t 91184\n",
        "104264 \t\t ['ContatorePrelievo'] \t\t 90776 \t\t 0\n",
        "122247 \t\t ['ContatorePrelievo'] \t\t 92408 \t\t 0\n",
        "103274 \t\t ['ContatorePrelievo'] \t\t 90004 \t\t 0\n",
        "107396 \t\t ['ContatorePrelievo'] \t\t 87488 \t\t 0\n",
        "107593 \t\t ['ContatorePrelievo'] \t\t 82328 \t\t 0\n"
       ]
      }
     ],
     "prompt_number": 93
    },
    {
     "cell_type": "code",
     "collapsed": false,
     "input": [
      "#users with double the number of values also have 2 different values for the field 'type': that is because they both consume and\n",
      "#produce energy, so the double  number of values is explained by the fact that these 3 users are prosumers"
     ],
     "language": "python",
     "metadata": {},
     "outputs": [],
     "prompt_number": 95
    },
    {
     "cell_type": "code",
     "collapsed": false,
     "input": [
      "v=[c[db][user].find({'value':{'$lt':0}}).count() for user in users]\n",
      "if sum(v)==0:\n",
      "    print('no user has negative values')"
     ],
     "language": "python",
     "metadata": {},
     "outputs": [
      {
       "output_type": "stream",
       "stream": "stdout",
       "text": [
        "no user has negative values\n"
       ]
      }
     ],
     "prompt_number": 43
    },
    {
     "cell_type": "code",
     "collapsed": false,
     "input": [
      "v=[c[db][user].find({'value':0}).count()/c[db][user].find({'value':{'$exists':True}}).count() for user in users]\n",
      "print('user\\tratio of zeros')\n",
      "for i in range(len(users)):\n",
      "    print(users[i],'\\t',v[i])\n"
     ],
     "language": "python",
     "metadata": {},
     "outputs": [
      {
       "output_type": "stream",
       "stream": "stdout",
       "text": [
        "user\tratio of zeros\n",
        "122255 \t 0.06722100247582566\n",
        "111255 \t 0.0007591623036649215\n",
        "111644 \t 0.0003031772980839195\n",
        "107038 \t 0.05526198824633315\n",
        "111690 \t 0.000270935960591133\n",
        "102993 \t 0.00035183927011550034\n",
        "102384 \t 0.0002600216684723727\n",
        "110367 \t 0.7781109445277361\n",
        "107514 \t 0.00023892008123282762\n",
        "111864 \t 0.39518270324946264\n",
        "104435 \t 0.35829597427885707\n",
        "104255 \t 0.40326958314246447\n",
        "103041 \t 4.406451044328897e-05\n",
        "102083 \t 0.00011017584064166409\n",
        "102155 \t 0.38234261129159713\n",
        "104264 \t 0.0001762580417731559\n",
        "122247 \t 0.000270539347242663\n",
        "103274 \t 0.00039998222301231056\n",
        "107396 \t 0.00027432333577176297\n",
        "107593 \t 0.00040083568166358955\n"
       ]
      }
     ],
     "prompt_number": 105
    },
    {
     "cell_type": "code",
     "collapsed": false,
     "input": [
      "#users 110367 111864 104435 104255 102155 have a very high ratio of zero values three of them are prosumers\n",
      "#so it can be due to the fact that production is scarce, but user 110367 is really anomalous and is not a prosumer"
     ],
     "language": "python",
     "metadata": {},
     "outputs": []
    },
    {
     "cell_type": "code",
     "collapsed": false,
     "input": [
      "print('user\\t\\tn_of_same_dates')\n",
      "print('---------------------------')\n",
      "for user in users:\n",
      "    print(user,'\\t\\t',(c[db][user].find({'time_stamp':{'$exists':True}})).count()-len(c[db][user].distinct('time_stamp')))\n",
      "    "
     ],
     "language": "python",
     "metadata": {},
     "outputs": [
      {
       "output_type": "stream",
       "stream": "stdout",
       "text": [
        "user\t\tn_of_same_dates\n",
        "---------------------------\n",
        "122255"
       ]
      },
      {
       "output_type": "stream",
       "stream": "stdout",
       "text": [
        " \t\t 12\n",
        "111255"
       ]
      },
      {
       "output_type": "stream",
       "stream": "stdout",
       "text": [
        " \t\t 12\n",
        "111644"
       ]
      },
      {
       "output_type": "stream",
       "stream": "stdout",
       "text": [
        " \t\t 12\n",
        "107038"
       ]
      },
      {
       "output_type": "stream",
       "stream": "stdout",
       "text": [
        " \t\t 12\n",
        "111690"
       ]
      },
      {
       "output_type": "stream",
       "stream": "stdout",
       "text": [
        " \t\t 12\n",
        "102993"
       ]
      },
      {
       "output_type": "stream",
       "stream": "stdout",
       "text": [
        " \t\t 12\n",
        "102384"
       ]
      },
      {
       "output_type": "stream",
       "stream": "stdout",
       "text": [
        " \t\t 12\n",
        "110367"
       ]
      },
      {
       "output_type": "stream",
       "stream": "stdout",
       "text": [
        " \t\t 12\n",
        "107514"
       ]
      },
      {
       "output_type": "stream",
       "stream": "stdout",
       "text": [
        " \t\t 8\n",
        "111864"
       ]
      },
      {
       "output_type": "stream",
       "stream": "stdout",
       "text": [
        " \t\t 4\n",
        "104435"
       ]
      },
      {
       "output_type": "stream",
       "stream": "stdout",
       "text": [
        " \t\t 86596\n",
        "104255"
       ]
      },
      {
       "output_type": "stream",
       "stream": "stdout",
       "text": [
        " \t\t 80756\n",
        "103041"
       ]
      },
      {
       "output_type": "stream",
       "stream": "stdout",
       "text": [
        " \t\t 4\n",
        "102083"
       ]
      },
      {
       "output_type": "stream",
       "stream": "stdout",
       "text": [
        " \t\t 4\n",
        "102155"
       ]
      },
      {
       "output_type": "stream",
       "stream": "stdout",
       "text": [
        " \t\t 90944\n",
        "104264"
       ]
      },
      {
       "output_type": "stream",
       "stream": "stdout",
       "text": [
        " \t\t 12\n",
        "122247"
       ]
      },
      {
       "output_type": "stream",
       "stream": "stdout",
       "text": [
        " \t\t 12\n",
        "103274"
       ]
      },
      {
       "output_type": "stream",
       "stream": "stdout",
       "text": [
        " \t\t 12\n",
        "107396"
       ]
      },
      {
       "output_type": "stream",
       "stream": "stdout",
       "text": [
        " \t\t 12\n",
        "107593"
       ]
      },
      {
       "output_type": "stream",
       "stream": "stdout",
       "text": [
        " \t\t 12\n"
       ]
      }
     ],
     "prompt_number": 52
    },
    {
     "cell_type": "code",
     "collapsed": false,
     "input": [
      "#all users have some repeated date-times, the 3 prosumers have all the date-times repeated twice, i suppose because half refer to\n",
      "#production, half to consumption"
     ],
     "language": "python",
     "metadata": {},
     "outputs": [],
     "prompt_number": 71
    },
    {
     "cell_type": "code",
     "collapsed": false,
     "input": [
      "print('user\\tstatus 0\\tstatus 1\\tstatus 3\\tstatus 4\\tstatus 5\\t\\t')\n",
      "print('-------------------------------------------------------------------------------------------------')\n",
      "for user in users:\n",
      "    print(user,'\\t\\t',\n",
      "          c[db][user].find({'sample_status':0}).count(),'\\t\\t',\n",
      "          c[db][user].find({'sample_status':1}).count(),'\\t\\t',\n",
      "          c[db][user].find({'sample_status':3}).count(),'\\t\\t',\n",
      "          c[db][user].find({'sample_status':4}).count(),'\\t\\t',\n",
      "          c[db][user].find({'sample_status':5}).count(),'\\t\\t',\n",
      "          c[db][user].distinct('sample_status'))"
     ],
     "language": "python",
     "metadata": {},
     "outputs": [
      {
       "output_type": "stream",
       "stream": "stdout",
       "text": [
        "user\tstatus 0\tstatus 1\tstatus 3\tstatus 4\tstatus 5\t\t\n",
        "-------------------------------------------------------------------------------------------------\n",
        "122255"
       ]
      },
      {
       "output_type": "stream",
       "stream": "stdout",
       "text": [
        " \t\t 12 \t\t 85612 \t\t 0 \t\t 0 \t\t 4 \t\t [1, 0, 5]\n",
        "111255"
       ]
      },
      {
       "output_type": "stream",
       "stream": "stdout",
       "text": [
        " \t\t 51 \t\t 76338 \t\t 3 \t\t 0 \t\t 8 \t\t [1, 5, 0, 3]\n",
        "111644"
       ]
      },
      {
       "output_type": "stream",
       "stream": "stdout",
       "text": [
        " \t\t 23 \t\t 82423 \t\t 7 \t\t 0 \t\t 7 \t\t [1, 5, 0, 3]\n",
        "107038"
       ]
      },
      {
       "output_type": "stream",
       "stream": "stdout",
       "text": [
        " \t\t 21 \t\t 80963 \t\t 5 \t\t 0 \t\t 7 \t\t [1, 5, 0, 3]\n",
        "111690"
       ]
      },
      {
       "output_type": "stream",
       "stream": "stdout",
       "text": [
        " \t\t 21 \t\t 81166 \t\t 5 \t\t 0 \t\t 8 \t\t [1, 5, 0, 3]\n",
        "102993"
       ]
      },
      {
       "output_type": "stream",
       "stream": "stdout",
       "text": [
        " \t\t 21 \t\t 82391 \t\t 5 \t\t 0 \t\t 7 \t\t [1, 5, 0, 3]\n",
        "102384"
       ]
      },
      {
       "output_type": "stream",
       "stream": "stdout",
       "text": [
        " \t\t 24 \t\t 92270 \t\t 0 \t\t 0 \t\t 6 \t\t [1, 0, 5]\n",
        "110367"
       ]
      },
      {
       "output_type": "stream",
       "stream": "stdout",
       "text": [
        " \t\t 20 \t\t 93346 \t\t 8 \t\t 0 \t\t 6 \t\t [1, 0, 5, 3]\n",
        "107514"
       ]
      },
      {
       "output_type": "stream",
       "stream": "stdout",
       "text": [
        " \t\t 16 \t\t 66949 \t\t 0 \t\t 0 \t\t 3 \t\t [1, 0, 5]\n",
        "111864"
       ]
      },
      {
       "output_type": "stream",
       "stream": "stdout",
       "text": [
        " \t\t 4 \t\t 31631 \t\t 0 \t\t 0 \t\t 1 \t\t [1, 5, 0]\n",
        "104435"
       ]
      },
      {
       "output_type": "stream",
       "stream": "stdout",
       "text": [
        " \t\t 52 \t\t 176574 \t\t 0 \t\t 2 \t\t 36 \t\t [1, 0, 5, 4]\n",
        "104255"
       ]
      },
      {
       "output_type": "stream",
       "stream": "stdout",
       "text": [
        " \t\t 112 \t\t 174514 \t\t 0 \t\t 0 \t\t 14 \t\t [1, 0, 5]\n",
        "103041"
       ]
      },
      {
       "output_type": "stream",
       "stream": "stdout",
       "text": [
        " \t\t 4 \t\t 90766 \t\t 0 \t\t 0 \t\t 6 \t\t [1, 5, 0]\n",
        "102083"
       ]
      },
      {
       "output_type": "stream",
       "stream": "stdout",
       "text": [
        " \t\t 4 \t\t 90754 \t\t 0 \t\t 0 \t\t 6 \t\t [1, 5, 0]\n",
        "102155"
       ]
      },
      {
       "output_type": "stream",
       "stream": "stdout",
       "text": [
        " \t\t 56 \t\t 182068 \t\t 22 \t\t 27 \t\t 51 \t\t [1, 0, 5, 3, 4]\n",
        "104264"
       ]
      },
      {
       "output_type": "stream",
       "stream": "stdout",
       "text": [
        " \t\t 16 \t\t 90754 \t\t 0 \t\t 0 \t\t 6 \t\t [1, 0, 5]\n",
        "122247"
       ]
      },
      {
       "output_type": "stream",
       "stream": "stdout",
       "text": [
        " \t\t 20 \t\t 92382 \t\t 0 \t\t 0 \t\t 6 \t\t [1, 0, 5]\n",
        "103274"
       ]
      },
      {
       "output_type": "stream",
       "stream": "stdout",
       "text": [
        " \t\t 12 \t\t 89984 \t\t 1 \t\t 0 \t\t 7 \t\t [1, 0, 5, 3]\n",
        "107396"
       ]
      },
      {
       "output_type": "stream",
       "stream": "stdout",
       "text": [
        " \t\t 24 \t\t 87459 \t\t 0 \t\t 0 \t\t 5 \t\t [1, 0, 5]\n",
        "107593"
       ]
      },
      {
       "output_type": "stream",
       "stream": "stdout",
       "text": [
        " \t\t 23 \t\t 82290 \t\t 7 \t\t 0 \t\t 8 \t\t [1, 5, 0, 3]\n"
       ]
      }
     ],
     "prompt_number": 62
    },
    {
     "cell_type": "code",
     "collapsed": false,
     "input": [
      "#all users have values in different statuses: what does this mean?"
     ],
     "language": "python",
     "metadata": {},
     "outputs": [],
     "prompt_number": 66
    },
    {
     "cell_type": "code",
     "collapsed": false,
     "input": [
      "test=[c[db][user].distinct('test') for user in users]\n",
      "print('user\\t\\ttest')\n",
      "print('---------------------------------')\n",
      "for i in range(len(users)):\n",
      "    print (users[i],'\\t\\t', test[i])"
     ],
     "language": "python",
     "metadata": {},
     "outputs": [
      {
       "output_type": "stream",
       "stream": "stdout",
       "text": [
        "user\t\ttest\n",
        "---------------------------------\n",
        "122255 \t\t ['1']\n",
        "111255 \t\t ['0']\n",
        "111644 \t\t ['1']\n",
        "107038 \t\t ['1']\n",
        "111690 \t\t ['1']\n",
        "102993 \t\t ['1']\n",
        "102384 \t\t ['1']\n",
        "110367 \t\t ['1']\n",
        "107514 \t\t ['1']\n",
        "111864 \t\t ['1']\n",
        "104435 \t\t ['1']\n",
        "104255 \t\t ['1']\n",
        "103041 \t\t ['1']\n",
        "102083 \t\t ['1']\n",
        "102155 \t\t ['1']\n",
        "104264 \t\t ['1']\n",
        "122247 \t\t ['1']\n",
        "103274 \t\t ['1']\n",
        "107396 \t\t ['1']\n",
        "107593 \t\t ['1']\n"
       ]
      }
     ],
     "prompt_number": 68
    },
    {
     "cell_type": "code",
     "collapsed": false,
     "input": [
      "#user 111255 has test field value equal to 0, differently from all the others: what dows this mean?"
     ],
     "language": "python",
     "metadata": {},
     "outputs": []
    },
    {
     "cell_type": "code",
     "collapsed": false,
     "input": [
      "#da fare: analisi sulle date mancanti, risolvere il problema di overflow"
     ],
     "language": "python",
     "metadata": {},
     "outputs": []
    }
   ],
   "metadata": {}
  }
 ]
}